{
 "cells": [
  {
   "cell_type": "markdown",
   "metadata": {},
   "source": [
    "# Spam Filtering"
   ]
  },
  {
   "cell_type": "markdown",
   "metadata": {},
   "source": [
    "## Getting the Data"
   ]
  },
  {
   "cell_type": "markdown",
   "metadata": {},
   "source": [
    "Usually getting good data is one of the hardest parts in a Data Science project.\n",
    "\n",
    "For the next exercise we'll use simple dataset containing eml files (eml is the format in which emails are sent according [rfc 822](http://www.ietf.org/rfc/rfc0822.txt))\n",
    "\n",
    "The emails were manually labeled into two categories: Spam and Non-Spam. We'll try to build a model (what is it?) which recognizes spam messages.\n",
    "\n",
    "To proceed:\n",
    "\n",
    "* Download trec emails dataset from https://plg.uwaterloo.ca/~gvcormac/treccorpus07/\n",
    "* Extract the archive into **datasets/** directory"
   ]
  },
  {
   "cell_type": "code",
   "execution_count": 68,
   "metadata": {
    "collapsed": true
   },
   "outputs": [],
   "source": [
    "import os\n",
    "\n",
    "assert os.path.isfile('datasets/trec07p/full/index'), \"Please follow the instructions above\""
   ]
  },
  {
   "cell_type": "code",
   "execution_count": 12,
   "metadata": {
    "collapsed": true
   },
   "outputs": [],
   "source": [
    "#\n",
    "# numpy is a library which allows manipulating arrays and matrices in Python in a similar way to Matlab.\n",
    "#\n",
    "import numpy as np\n",
    "#\n",
    "# Put random seed 0 to be consistent in the examples\n",
    "#\n",
    "np.random.seed(0)\n",
    "\n",
    "#\n",
    "# Read email files path and labels\n",
    "#\n",
    "with open('datasets/trec07p/full/index') as f:\n",
    "    # index file contains one line per email with the following form: path ham/spam\n",
    "    # (ham means non-spam)\n",
    "    files = [line.strip().split() for line in f]\n",
    "    ham = ['datasets/trec07p/full/' + path for cls, path in files if cls == 'ham']\n",
    "    spam = ['datasets/trec07p/full/' + path for cls, path in files if cls == 'spam'][:len(ham)]\n",
    "    \n",
    "    # join ham and spam file paths and create labels vector\n",
    "    emails = ham + spam\n",
    "    \n",
    "    # labels vector will contain 0 for ham messages and 1 for spam messages\n",
    "    labels = np.zeros((len(emails),))\n",
    "    labels[len(ham):] = 1\n",
    "\n",
    "    # Shuffle the messages\n",
    "    permutation = np.random.permutation(labels.size)\n",
    "    emails = [emails[i] for i in permutation]\n",
    "    labels = labels[permutation] > 0"
   ]
  },
  {
   "cell_type": "markdown",
   "metadata": {},
   "source": [
    "Now we have preloaded our dataset and created two arrays of equal length:\n",
    "* emails: the emails array contains paths to email messages\n",
    "* labels: the labels array is binary array, where labels[i]=1 iff emails[i] is spam for i=0..len(emails)-1"
   ]
  },
  {
   "cell_type": "markdown",
   "metadata": {},
   "source": [
    "## Study the Data on a Training Set\n",
    "\n",
    "The learning procedure in machine learning is called training.\n",
    "\n",
    "The training is usually done on a small subset of the real population: we try to build a program which classifies email messages. We use only ~50K messages in our dataset to build that program. The real population -- all email messages in the world -- is much bigger and there is no way that we can put our hands on it.\n",
    "\n",
    "So how can we infer something about all emails in the world from just a tiny subset we use? That philosophical question might be less relevant for practical people than the following: how can we prove that we succeeded to learn something from the small training dataset.\n",
    "\n",
    "We prove by saying to any skeptic: give us another tony subset of all the messages in the world, a subset that you care about, and we'll show that we are good at classifying your subset. We call this latter subset a test set.\n",
    "\n",
    "So, when building machine learning programs we always have a training set with which we work and a test set that we never touch and use it just to see that the results are good."
   ]
  },
  {
   "cell_type": "code",
   "execution_count": 13,
   "metadata": {
    "collapsed": true
   },
   "outputs": [],
   "source": [
    "#\n",
    "# Split the data (the emails and the labels) into training and test sets\n",
    "# in such way that training set contains 40000 emails and the test set the rest\n",
    "#\n",
    "\n",
    "# TODO (copy on handouts)"
   ]
  },
  {
   "cell_type": "code",
   "execution_count": 14,
   "metadata": {
    "collapsed": true
   },
   "outputs": [],
   "source": [
    "assert len(train) == len(y_train) == 40000\n",
    "assert len(test) == len(y_test) == len(emails) - 40000"
   ]
  },
  {
   "cell_type": "markdown",
   "metadata": {},
   "source": [
    "The datasets we work with are often huge. However, in this exercice all the emails we have can fit into memory."
   ]
  },
  {
   "cell_type": "code",
   "execution_count": 15,
   "metadata": {
    "collapsed": true
   },
   "outputs": [],
   "source": [
    "def read_file(path):\n",
    "    with open(path, 'rb') as f:\n",
    "        return f.read()\n",
    "\n",
    "#\n",
    "# Since we deal in this exercice with relatively small dataset, we can load everything into memory\n",
    "#\n",
    "train = [read_file(path) for path in train]\n",
    "test = [read_file(path) for path in test]"
   ]
  },
  {
   "cell_type": "markdown",
   "metadata": {},
   "source": [
    "## Classifying By Subject Length\n",
    "\n",
    "Let's see if we can tell that an email is a spam by looking only on its subject's length"
   ]
  },
  {
   "cell_type": "code",
   "execution_count": 16,
   "metadata": {
    "collapsed": true
   },
   "outputs": [],
   "source": [
    "def subject(content):\n",
    "    \"\"\"This function extracts the subject from an eml file\"\"\"\n",
    "    \n",
    "    # EML file begins with headers section which ends by two blank lines\n",
    "    i = content.find(b'\\n\\n')\n",
    "    if i < 0:\n",
    "        return b''\n",
    "    headers = content[:i]\n",
    "\n",
    "    # One of the headers is the Email Subject\n",
    "    subj = b'\\nSubject:'\n",
    "    j = headers.find(subj)\n",
    "    if j < 0:\n",
    "        return b''\n",
    "\n",
    "    # Return the first line of the subject\n",
    "    return headers[j+len(subj):].split(b'\\n', maxsplit=1)[0].strip()"
   ]
  },
  {
   "cell_type": "code",
   "execution_count": 17,
   "metadata": {
    "collapsed": true
   },
   "outputs": [],
   "source": [
    "#\n",
    "# Extract the subjects of all email messages in the training set\n",
    "#\n",
    "\n",
    "# TODO (copy from handouts)"
   ]
  },
  {
   "cell_type": "code",
   "execution_count": 18,
   "metadata": {},
   "outputs": [
    {
     "data": {
      "text/plain": [
       "[b'Rev 5353: forgot to check in privileges.h in',\n",
       " b'Re: [R] understanding round() behavior',\n",
       " b'[perl #43133] Re: GC bug on freebsd/x86, triggered by a perl6 test',\n",
       " b'UK bomb plotters are jailed',\n",
       " b'Re: Clickthrough for GPL',\n",
       " b'Re: [R] Opinion on R plots: connecting X and Y',\n",
       " b'Re: S12: can(), signatures and casting',\n",
       " b'Re: [ot] Windows programming',\n",
       " b'Re: lynx links and forms in speakup',\n",
       " b'Re: [R] Multiple trellis plots without intervening space']"
      ]
     },
     "execution_count": 18,
     "metadata": {},
     "output_type": "execute_result"
    }
   ],
   "source": [
    "#\n",
    "# Let's look at the data\n",
    "#\n",
    "goods = [s for s, y in zip(subjects, y_train) if not y] # Subjects of good emails\n",
    "goods[:10]"
   ]
  },
  {
   "cell_type": "code",
   "execution_count": 19,
   "metadata": {},
   "outputs": [
    {
     "data": {
      "text/plain": [
       "[b\"You don't need perfect credit to apply for the imagine unsecured gold mastercard credit card\",\n",
       " b'Mlcrosoft6,Adobea+M0RE starting at 26$',\n",
       " b'Avis Important et Personnel',\n",
       " b'Registry Cleaner: Scan the Windows registry (32-bit and 64-bit)',\n",
       " b'[1]: Improve your Odds',\n",
       " b'Avis Important et Personnel',\n",
       " b'Mesure importante de =?ISO-8859-1?Q?s=E9curit=E9?= provenant des',\n",
       " b'Avis Important et Personnel',\n",
       " b'Is discus an marital',\n",
       " b\"She wants a better sex? All you need's here!\"]"
      ]
     },
     "execution_count": 19,
     "metadata": {},
     "output_type": "execute_result"
    }
   ],
   "source": [
    "bads = [s for s, y in zip(subjects, y_train) if  y] # Subjects of spam emails\n",
    "bads[:10]"
   ]
  },
  {
   "cell_type": "markdown",
   "metadata": {},
   "source": [
    "Create a numpy array length which contains the number of characters in every subject in the training set:"
   ]
  },
  {
   "cell_type": "code",
   "execution_count": 20,
   "metadata": {
    "collapsed": true
   },
   "outputs": [],
   "source": [
    "#\n",
    "# Save the number of characters in every subject in an array named lengths\n",
    "#\n",
    "lengths = # TODO (copy from handouts)\n",
    "\n",
    "#\n",
    "# Save the number of characters in every spam subject in an array named bad_lengths\n",
    "#\n",
    "bad_lengths = # TODO (copy from handouts)\n",
    "\n",
    "#\n",
    "# Save the number of characters in every non-spam subject in an array named good_lengths\n",
    "#\n",
    "good_lengths = # TODO (copy from handouts)"
   ]
  },
  {
   "cell_type": "code",
   "execution_count": 21,
   "metadata": {
    "collapsed": true
   },
   "outputs": [],
   "source": [
    "#\n",
    "# The shape of a numpy n-dimensinal array is the dimensions. So for a 5x5, the shape would be (5, 5)\n",
    "# and for a vector of length n, it would be (n,)\n",
    "#\n",
    "assert lengths.shape == (len(subjects),)\n",
    "\n",
    "#\n",
    "# A size of numpy vector is the number of its elements\n",
    "#\n",
    "assert bad_lengths.size == len(bads)\n",
    "assert good_lengths.size == len(goods)"
   ]
  },
  {
   "cell_type": "code",
   "execution_count": 22,
   "metadata": {},
   "outputs": [
    {
     "name": "stdout",
     "output_type": "stream",
     "text": [
      "The mean of spam subject length is: 30.897556344\n",
      "The mean of non-spam subject length is: 41.162089149\n"
     ]
    }
   ],
   "source": [
    "#\n",
    "# Calculate the mean length of subject of spam and non-spam email messages\n",
    "#\n",
    "print('The mean of spam subject length is:', ...) # TODO (copy from handouts)\n",
    "print('The mean of non-spam subject length is:', ...) # TODO (copy from handouts)"
   ]
  },
  {
   "cell_type": "markdown",
   "metadata": {},
   "source": [
    "## A Model\n",
    "\n",
    "A model is an object which contains summary of the training data that allows us to do predictions on the test data."
   ]
  },
  {
   "cell_type": "code",
   "execution_count": 300,
   "metadata": {
    "collapsed": true
   },
   "outputs": [],
   "source": [
    "#\n",
    "# Create a simple model that classifies messages based on their subject length.\n",
    "#\n",
    "class Model:\n",
    "    def train(self, bad_lengths, good_lengths):\n",
    "        self._threshold = # TODO: change the threshold to give good predicitons\n",
    "        return self\n",
    "    \n",
    "    def predict(self, message):\n",
    "        \"\"\"Tell if the message is spam or not\"\"\"\n",
    "        \n",
    "        subj = subject(message)\n",
    "        length = len(subj)\n",
    "        \n",
    "        return length < self._threshold"
   ]
  },
  {
   "cell_type": "code",
   "execution_count": 301,
   "metadata": {
    "collapsed": true
   },
   "outputs": [],
   "source": [
    "#\n",
    "# Create an instance of a model\n",
    "#\n",
    "model = Model().train(bad_lengths, good_lengths)"
   ]
  },
  {
   "cell_type": "code",
   "execution_count": 302,
   "metadata": {},
   "outputs": [
    {
     "data": {
      "text/plain": [
       "True"
      ]
     },
     "execution_count": 302,
     "metadata": {},
     "output_type": "execute_result"
    }
   ],
   "source": [
    "#\n",
    "# Predict on some message if it is spam (should be true)\n",
    "#\n",
    "model.predict(test[0])"
   ]
  },
  {
   "cell_type": "code",
   "execution_count": null,
   "metadata": {
    "collapsed": true
   },
   "outputs": [],
   "source": [
    "#\n",
    "# Use the model to decide on all the messages in the test set whether they are spam\n",
    "# y_pred should be a boolean array of length len(test) containing for each email\n",
    "# message True if it is spam\n",
    "# \n",
    "y_pred = # TODO (copy on handouts)"
   ]
  },
  {
   "cell_type": "code",
   "execution_count": 217,
   "metadata": {},
   "outputs": [
    {
     "name": "stdout",
     "output_type": "stream",
     "text": [
      "Accuracy: 0.645977011494\n"
     ]
    }
   ],
   "source": [
    "#\n",
    "# numpy arrays can be compared elementwise\n",
    "#\n",
    "correct_predictions = (y_pred == y_test)\n",
    "\n",
    "#\n",
    "# Calculate the prediction accuracy.\n",
    "# \n",
    "print('Accuracy:', sum(correct_predictions) / len(correct_predictions))"
   ]
  },
  {
   "cell_type": "markdown",
   "metadata": {},
   "source": [
    "The measure we calculated on our prediction is called accuracy. Accuracy is number of correct predictions divided by the total number of predictions.\n",
    "\n",
    "We see that classifying by subject length is better than random. Please answer the following questions:\n",
    "* What is the model we created?\n",
    "* What is its training procedure?\n",
    "* How did we test it?\n",
    "* Can we do better? How?"
   ]
  },
  {
   "cell_type": "markdown",
   "metadata": {},
   "source": [
    "## matplotlib\n",
    "\n",
    "We'll answer the last question in a few steps. First, let's see if we can do better by using only subject lengths."
   ]
  },
  {
   "cell_type": "code",
   "execution_count": 167,
   "metadata": {},
   "outputs": [
    {
     "data": {
      "image/png": "[encoded data removed]",
      "text/plain": [
       "<matplotlib.figure.Figure at 0x115ab02b0>"
      ]
     },
     "metadata": {},
     "output_type": "display_data"
    }
   ],
   "source": [
    "#\n",
    "# matplotlib is a library which allows plotting in Python in a similar way to Matlab.\n",
    "#\n",
    "import matplotlib.pyplot as plt\n",
    "\n",
    "# \n",
    "# Plot the lengths of 100 spam subjects in red\n",
    "#\n",
    "\n",
    "# TODO (copy from handouts)\n",
    "\n",
    "# \n",
    "# Plot the lengths of 100 non-spam subjects in blue\n",
    "#\n",
    "\n",
    "# TODO (copy from handouts)\n",
    "\n",
    "#\n",
    "# Show the plots\n",
    "#\n",
    "plt.show()"
   ]
  },
  {
   "cell_type": "markdown",
   "metadata": {},
   "source": [
    "So do you think we can use the lengths more cleverely then just thresholding by their averages?"
   ]
  },
  {
   "cell_type": "markdown",
   "metadata": {},
   "source": [
    "## 1-D Decision Trees"
   ]
  },
  {
   "cell_type": "code",
   "execution_count": 169,
   "metadata": {
    "collapsed": true
   },
   "outputs": [],
   "source": [
    "#\n",
    "# scikit-learn (sklearn) is a machine learning framework\n",
    "# which implements most popular  machine learning algorithms (which do not involve neural networks),\n",
    "# tools for preprocessing the data and for measuring the performance of these algorithms.\n",
    "#\n",
    "from sklearn.tree import DecisionTreeClassifier"
   ]
  },
  {
   "cell_type": "code",
   "execution_count": 233,
   "metadata": {},
   "outputs": [
    {
     "data": {
      "text/plain": [
       "DecisionTreeClassifier(class_weight=None, criterion='gini', max_depth=None,\n",
       "            max_features=None, max_leaf_nodes=None,\n",
       "            min_impurity_decrease=0.0, min_impurity_split=None,\n",
       "            min_samples_leaf=1, min_samples_split=2,\n",
       "            min_weight_fraction_leaf=0.0, presort=False, random_state=None,\n",
       "            splitter='best')"
      ]
     },
     "execution_count": 233,
     "metadata": {},
     "output_type": "execute_result"
    }
   ],
   "source": [
    "#\n",
    "# All scikit models implement the same interface...\n",
    "#\n",
    "tree = DecisionTreeClassifier()\n",
    "\n",
    "#\n",
    "# ...which contains a method fit(...) the performs the actual training.\n",
    "#\n",
    "tree.fit(lengths.reshape(-1, 1), y_train)"
   ]
  },
  {
   "cell_type": "code",
   "execution_count": 303,
   "metadata": {
    "collapsed": true
   },
   "outputs": [],
   "source": [
    "#\n",
    "# ...and predict function which performs the inference\n",
    "#\n",
    "lengths_test = np.array([len(subject(message)) for message in test]).reshape(-1, 1)\n",
    "y_pred = tree.predict(lengths_test)"
   ]
  },
  {
   "cell_type": "code",
   "execution_count": 304,
   "metadata": {},
   "outputs": [
    {
     "name": "stdout",
     "output_type": "stream",
     "text": [
      "Accuracy: 0.681992337165\n"
     ]
    }
   ],
   "source": [
    "correct_predictions = (y_pred == y_test)\n",
    "print('Accuracy:', sum(correct_predictions) / len(correct_predictions))"
   ]
  },
  {
   "cell_type": "code",
   "execution_count": 305,
   "metadata": {},
   "outputs": [
    {
     "data": {
      "text/plain": [
       "0.68199233716475094"
      ]
     },
     "execution_count": 305,
     "metadata": {},
     "output_type": "execute_result"
    }
   ],
   "source": [
    "#\n",
    "# Accuracy, as well as other metrics can be calculated using sklearn\n",
    "#\n",
    "from sklearn.metrics import accuracy_score\n",
    "\n",
    "accuracy_score(y_test, y_pred)"
   ]
  },
  {
   "cell_type": "markdown",
   "metadata": {},
   "source": [
    "## Adding More Dimensions"
   ]
  },
  {
   "cell_type": "markdown",
   "metadata": {},
   "source": [
    "We call the input numbers that we pass to the model by the name features. In the previous example we used only one feature: length of the email subject. Can we add more features describing the subject to achieve higher accuracy?"
   ]
  },
  {
   "cell_type": "code",
   "execution_count": 4,
   "metadata": {
    "collapsed": true
   },
   "outputs": [],
   "source": [
    "def subject_features(subj):\n",
    "    \"\"\"The function gets a subjects and outputs numeric features that describe it\"\"\"\n",
    "\n",
    "    yield len(subj)\n",
    "    yield subj.strip()[:1] == b'['\n",
    "    \n",
    "    #\n",
    "    # TODO: yield more features here\n",
    "    #"
   ]
  },
  {
   "cell_type": "code",
   "execution_count": 445,
   "metadata": {
    "collapsed": true
   },
   "outputs": [],
   "source": [
    "#\n",
    "# Generate the features and store them in numpy arrays\n",
    "#\n",
    "X_train = np.array([list(subject_features(subject(message))) for message in train])\n",
    "X_test = np.array([list(subject_features(subject(message))) for message in test])"
   ]
  },
  {
   "cell_type": "code",
   "execution_count": 328,
   "metadata": {},
   "outputs": [
    {
     "data": {
      "text/plain": [
       "DecisionTreeClassifier(class_weight=None, criterion='gini', max_depth=None,\n",
       "            max_features=None, max_leaf_nodes=None,\n",
       "            min_impurity_decrease=0.0, min_impurity_split=None,\n",
       "            min_samples_leaf=1, min_samples_split=2,\n",
       "            min_weight_fraction_leaf=0.0, presort=False, random_state=None,\n",
       "            splitter='best')"
      ]
     },
     "execution_count": 328,
     "metadata": {},
     "output_type": "execute_result"
    }
   ],
   "source": [
    "#\n",
    "# Train decision tree classifier and use it to do the prediction on a test set\n",
    "#\n",
    "tree = DecisionTreeClassifier()\n",
    "tree.fit(X_train, y_train)"
   ]
  },
  {
   "cell_type": "code",
   "execution_count": 329,
   "metadata": {},
   "outputs": [
    {
     "name": "stdout",
     "output_type": "stream",
     "text": [
      "0.929406130268\n"
     ]
    }
   ],
   "source": [
    "#\n",
    "# Check the accuracy of the predictions\n",
    "#\n",
    "y_pred = tree.predict(X_test)\n",
    "print(accuracy_score(y_test, predict()))"
   ]
  },
  {
   "cell_type": "markdown",
   "metadata": {},
   "source": [
    "## Confusion Matrix\n",
    "\n",
    "Accuracy is just one of many metrics used to measure model generative power: see [scikit metrics reference](http://scikit-learn.org/stable/modules/classes.html#sklearn-metrics-metrics).\n",
    "\n",
    "One useful model evaluation tool is the confusion matrix. To understand what we put in this matrix we use the following terminology: for a certain email message, if the model says that it is spam then we call it a positive. Otherwise, we say that it is negative.\n",
    "\n",
    "* We say that a prediction is a false positive if the message is actually not a spam although the model said it is.\n",
    "* We say that a prediction is a false negative if the message is actually a spam that the model didn't catch.\n",
    "\n",
    "Confusion matrixis a table in which the counts of samples are written in the following way:\n",
    "\n",
    "![ConfusionMatrix](https://rasbt.github.io/mlxtend/user_guide/evaluate/confusion_matrix_files/confusion_matrix_1.png?classes=float-left)"
   ]
  },
  {
   "cell_type": "code",
   "execution_count": 330,
   "metadata": {
    "collapsed": true
   },
   "outputs": [],
   "source": [
    "#\n",
    "# Manually calculate the number of false positive and false negative predictions\n",
    "# (notice how boolean operations can be called piecewise on boolean numpy arrays)\n",
    "#\n",
    "misclassified = # TODO (copy from handouts)\n",
    "positive = # TODO (copy from handouts)\n",
    "negative = # TODO (copy from handouts)\n",
    "\n",
    "sum_false_positives = # TODO (copy from handouts)\n",
    "sum_false_negatives = # TODO (copy from handouts)"
   ]
  },
  {
   "cell_type": "code",
   "execution_count": 331,
   "metadata": {
    "collapsed": true
   },
   "outputs": [],
   "source": [
    "#\n",
    "# Calculate the complete confusion matrix and put it in an array of shape 2x2 named cm\n",
    "# \n",
    "cm = ... # TODO"
   ]
  },
  {
   "cell_type": "code",
   "execution_count": 332,
   "metadata": {
    "collapsed": true
   },
   "outputs": [],
   "source": [
    "assert cm.shape == (2, 2)\n",
    "\n",
    "assert cm[0, 1] == sum_false_positives\n",
    "assert cm[1, 0] == sum_false_negatives"
   ]
  },
  {
   "cell_type": "markdown",
   "metadata": {},
   "source": [
    "Use the following function to display a confusion matrix"
   ]
  },
  {
   "cell_type": "code",
   "execution_count": 333,
   "metadata": {
    "collapsed": true
   },
   "outputs": [],
   "source": [
    "import itertools\n",
    "\n",
    "def plot_confusion_matrix(cm, classes=('Message', 'Spam'),\n",
    "                          normalized=False,\n",
    "                          title='Confusion Matrix',\n",
    "                          cmap=plt.cm.Blues):\n",
    "    \"\"\"The function puts a plot of a confusion matrix\"\"\"\n",
    "    if normalized:\n",
    "        cm = cm.astype('float') / cm.sum(axis=1)[:, np.newaxis] * 100\n",
    "\n",
    "    plt.imshow(cm, interpolation='nearest', cmap=cmap)\n",
    "    if title:\n",
    "        plt.title(title)\n",
    "\n",
    "    ticks = np.arange(len(classes))\n",
    "    plt.xticks(ticks, classes)\n",
    "    plt.yticks(ticks, classes)\n",
    "\n",
    "    postfix = np.empty((len(classes), len(classes)), dtype=object)\n",
    "    if normalized:\n",
    "        postfix[:, :] = '%'\n",
    "        postfix[0, -1] += ' (FPR)'\n",
    "        postfix[-1, 0] += ' (FNR)'\n",
    "    else:\n",
    "        postfix[:, :] = ''\n",
    "        postfix[0, -1] += ' (FP)'\n",
    "        postfix[-1, 0] += ' (FN)'\n",
    "    \n",
    "    fmt = '.2f' if normalized else 'd'\n",
    "    postifx = '%' if normalized else ''\n",
    "    thresh = cm.max() / 2.\n",
    "    \n",
    "    for i, j in itertools.product(range(cm.shape[0]), range(cm.shape[1])):\n",
    "        plt.text(j, i, format(cm[i, j], fmt) + postfix[i, j],\n",
    "                 horizontalalignment=\"center\",\n",
    "                 color=\"white\" if cm[i, j] > thresh else \"black\")\n",
    "    plt.xlabel('Predicted', rotation=45)\n",
    "    plt.ylabel('Actual', rotation=45)\n",
    "    plt.show()"
   ]
  },
  {
   "cell_type": "code",
   "execution_count": 334,
   "metadata": {
    "scrolled": true
   },
   "outputs": [
    {
     "data": {
      "image/png": "[encoded data removed]",
      "text/plain": [
       "<matplotlib.figure.Figure at 0x1150676d8>"
      ]
     },
     "metadata": {},
     "output_type": "display_data"
    }
   ],
   "source": [
    "plot_confusion_matrix(cm)"
   ]
  },
  {
   "cell_type": "markdown",
   "metadata": {},
   "source": [
    "Confusion matrix can be normalized by making the sum of values in each row to add up to 1:"
   ]
  },
  {
   "cell_type": "code",
   "execution_count": 335,
   "metadata": {},
   "outputs": [
    {
     "data": {
      "image/png": "[encoded data removed]",
      "text/plain": [
       "<matplotlib.figure.Figure at 0x115570e10>"
      ]
     },
     "metadata": {},
     "output_type": "display_data"
    }
   ],
   "source": [
    "plot_confusion_matrix(cm, normalized=True)"
   ]
  },
  {
   "cell_type": "markdown",
   "metadata": {},
   "source": [
    "## Adding More Features\n",
    "\n",
    "We can look not only on email subject but on other things we see, like email sender or the whole contents.\n",
    "Let's add more features that use more data from an email to get better results:"
   ]
  },
  {
   "cell_type": "code",
   "execution_count": 25,
   "metadata": {
    "collapsed": true
   },
   "outputs": [],
   "source": [
    "#\n",
    "# Some helper function for parsing eml file\n",
    "#\n",
    "def get_headers(content):\n",
    "    i = content.find(b'\\n\\n')\n",
    "    if i < 0:\n",
    "        return b''\n",
    "    \n",
    "    return content[:i]\n",
    "    \n",
    "def get_email_header(headers, header, default_value=b''):\n",
    "    \"\"\"Returns email sender\"\"\"\n",
    "    \n",
    "    name = b'\\n' + header\n",
    "    j = headers.find(name)\n",
    "    if j < 0:\n",
    "        return b''\n",
    "    \n",
    "    return headers[j+len(name):].split(b'\\n', maxsplit=1)[0].strip()\n",
    "\n",
    "def subject(headers):\n",
    "    return get_email_header(headers, b'Subject', b'None')\n",
    "\n",
    "def sender(headers):\n",
    "    return get_email_header(headers, b'From', b'')"
   ]
  },
  {
   "cell_type": "code",
   "execution_count": 580,
   "metadata": {
    "collapsed": true
   },
   "outputs": [],
   "source": [
    "def features_ver1(content):\n",
    "    headers = get_headers(content)\n",
    "\n",
    "    subj = subject(headers)\n",
    "    sender_domain = sender(headers)\n",
    "    sender_domain = sender_domain.split(b'@')[-1][:-1] if sender_domain else b''\n",
    "    \n",
    "    yield from subject_features(subj)\n",
    "    \n",
    "    #\n",
    "    # TODO: Add sender domain based features\n",
    "    #"
   ]
  },
  {
   "cell_type": "code",
   "execution_count": 581,
   "metadata": {
    "collapsed": true
   },
   "outputs": [],
   "source": [
    "#\n",
    "# Calculate the features\n",
    "#\n",
    "X_train = # TODO (copy from handouts)\n",
    "X_test = # TODO (copy from handouts)"
   ]
  },
  {
   "cell_type": "code",
   "execution_count": 582,
   "metadata": {},
   "outputs": [
    {
     "data": {
      "image/png": "[encoded data removed]",
      "text/plain": [
       "<matplotlib.figure.Figure at 0x1153f5a90>"
      ]
     },
     "metadata": {},
     "output_type": "display_data"
    }
   ],
   "source": [
    "#\n",
    "# Train, test and calculate the confusion matrix\n",
    "#\n",
    "\n",
    "cm = # TODO (copy from handouts)\n",
    "plot_confusion_matrix(cm, normalized=True)"
   ]
  },
  {
   "cell_type": "markdown",
   "metadata": {},
   "source": [
    "## Using Data Statistics for Prediction"
   ]
  },
  {
   "cell_type": "code",
   "execution_count": 26,
   "metadata": {},
   "outputs": [
    {
     "data": {
      "text/plain": [
       "[b'sernet.de',\n",
       " b'lanesdealer4u.com',\n",
       " b'dudethink.com',\n",
       " b'scd.desjardins.com',\n",
       " b'gmail.com',\n",
       " b'optonline.net',\n",
       " b'parrotcode.org',\n",
       " b'bayou.com',\n",
       " b'scd.desjardins.com',\n",
       " b'ebs.bbc.co.uk']"
      ]
     },
     "execution_count": 26,
     "metadata": {},
     "output_type": "execute_result"
    }
   ],
   "source": [
    "#\n",
    "# Look at the set of all domains from which an email was sent\n",
    "#\n",
    "senders = [sender(content) for content in train]\n",
    "domains = [s.split(b'@')[-1][:-1] if (b'@' in s) else b'' for s in senders]\n",
    "\n",
    "# Print 10 sample domains:\n",
    "print(\"TODO (copy from handouts)\")"
   ]
  },
  {
   "cell_type": "code",
   "execution_count": 526,
   "metadata": {
    "collapsed": true
   },
   "outputs": [],
   "source": [
    "#\n",
    "# Create a set off all domains from which a spam email was sent\n",
    "#\n",
    "bad_domain = # TODO (copy from handouts)"
   ]
  },
  {
   "cell_type": "code",
   "execution_count": 645,
   "metadata": {
    "collapsed": true
   },
   "outputs": [],
   "source": [
    "def sender_domain_features(sender_domain):\n",
    "    yield sender_domain.endswith(b'.org')\n",
    "    yield sender_domain.endswith(b'.com')\n",
    "    \n",
    "    #\n",
    "    # TODO: add more features based on the list of bad_domains\n",
    "    #\n",
    "    \n",
    "def features_ver2(content):\n",
    "    headers = get_headers(content)\n",
    "\n",
    "    subj = subject(headers)\n",
    "    send = sender(headers)\n",
    "    sender_domain = send.split(b'@')[-1][:-1] if send else b''\n",
    "    \n",
    "    yield from subject_features(subj)\n",
    "    yield from sender_domain_features(sender_domain)"
   ]
  },
  {
   "cell_type": "code",
   "execution_count": 646,
   "metadata": {},
   "outputs": [
    {
     "name": "stdout",
     "output_type": "stream",
     "text": [
      "Acuracy: 0.896168582375\n"
     ]
    },
    {
     "data": {
      "image/png": "[encoded data removed]",
      "text/plain": [
       "<matplotlib.figure.Figure at 0x11a1fe9e8>"
      ]
     },
     "metadata": {},
     "output_type": "display_data"
    }
   ],
   "source": [
    "#\n",
    "# Calculate the features, build the model, predict and show the confusion matrix and the accuracy\n",
    "#\n",
    "X_train = np.array([list(features_ver2(content)) for content in train])\n",
    "X_test = np.array([list(features_ver2(content)) for content in test])\n",
    "\n",
    "tree = DecisionTreeClassifier(random_state=0)\n",
    "tree.fit(X_train, y_train)\n",
    "y_pred = tree.predict(X_test)\n",
    "\n",
    "cm = confusion_matrix(y_test, y_pred)\n",
    "print('Acuracy:', accuracy_score(y_test, y_pred))\n",
    "plot_confusion_matrix(cm, normalized=True)"
   ]
  },
  {
   "cell_type": "markdown",
   "metadata": {},
   "source": [
    "## Decision Tree Parameters & Overfitting\n",
    "\n",
    "Most machine learning algorithms get parameters which control how they behave.\n",
    "Setting correct values to these parameters is usually very important. \n",
    "\n",
    "For instance, deicision tree can get its maximum depth."
   ]
  },
  {
   "cell_type": "code",
   "execution_count": 647,
   "metadata": {
    "collapsed": true
   },
   "outputs": [],
   "source": [
    "def predict_with_tree(X_train, y_train, X_test, max_depth=None):\n",
    "    tree = DecisionTreeClassifier(max_depth=max_depth, random_state=0)\n",
    "    tree.fit(X_train, y_train)\n",
    "    \n",
    "    y_pred = tree.predict(X_test)\n",
    "    y_pred_train = tree.predict(X_train)\n",
    "    \n",
    "    return y_pred, y_pred_train"
   ]
  },
  {
   "cell_type": "markdown",
   "metadata": {},
   "source": [
    "Calculate the accuracy of a model when it is run on the test set and on the train set when using different maximumum tree depths: 1, 11, 21 and 31:"
   ]
  },
  {
   "cell_type": "code",
   "execution_count": 648,
   "metadata": {},
   "outputs": [
    {
     "name": "stdout",
     "output_type": "stream",
     "text": [
      "1 0.656704980843 0.65815\n",
      "11 0.862068965517 0.88265\n",
      "21 0.893103448276 0.977325\n",
      "31 0.896647509579 0.993175\n",
      "41 0.896168582375 0.9937\n"
     ]
    }
   ],
   "source": [
    "test_accuracies = []\n",
    "train_accuracies = []\n",
    "\n",
    "for i in range(1, 50, 10):\n",
    "    # TODO: fill in the contents of test_accuracies and train_accuracies for max_depth=i\n",
    "    # (use can see the solution in handouts)"
   ]
  },
  {
   "cell_type": "markdown",
   "metadata": {},
   "source": [
    "Sometimes it is more convinient to look at the value 1-accuracy which we'll call the error:"
   ]
  },
  {
   "cell_type": "code",
   "execution_count": 649,
   "metadata": {
    "collapsed": true
   },
   "outputs": [],
   "source": [
    "test_error = [(1 - test_accuracy) for test_accuracy in test_accuracies]\n",
    "train_error = [(1 - train_accuracy) for train_accuracy in train_accuracies]"
   ]
  },
  {
   "cell_type": "code",
   "execution_count": 650,
   "metadata": {},
   "outputs": [
    {
     "data": {
      "image/png": "[encoded data removed]",
      "text/plain": [
       "<matplotlib.figure.Figure at 0x11a3e9ef0>"
      ]
     },
     "metadata": {},
     "output_type": "display_data"
    }
   ],
   "source": [
    "#\n",
    "# TODO: Create a plot of test & train errors vs. tree depth (you can see the solution in handouts)\n",
    "#"
   ]
  },
  {
   "cell_type": "markdown",
   "metadata": {},
   "source": [
    "We see that while the **training error continued to decrease** as we used more sophisticated trees,\n",
    "the **error on the test set didn't decrease**. Why?"
   ]
  },
  {
   "cell_type": "markdown",
   "metadata": {},
   "source": [
    "## Random Forest\n",
    "\n",
    "![](https://i0.wp.com/analyticsdefined.com/wp-content/uploads/2018/01/random-forests.png?w=1965&ssl=1)"
   ]
  },
  {
   "cell_type": "markdown",
   "metadata": {},
   "source": [
    "Decision trees are very prone to overfitting, that is they fit to well to their training samples.\n",
    "\n",
    "One way to handle this is to train multiple trees on different set of training samples each and then use everyone of them for prediction. This method is called random forest."
   ]
  },
  {
   "cell_type": "code",
   "execution_count": 651,
   "metadata": {
    "collapsed": true
   },
   "outputs": [],
   "source": [
    "from sklearn.ensemble import RandomForestClassifier\n",
    "\n",
    "# TODO: Write a function predict_with_forest as described below:\n",
    "\n",
    "def predict_with_forest(X_train, y_train, X_test):\n",
    "    \"\"\"The function gets three parameters:\n",
    "            X_train: training features\n",
    "            y_train: training labels\n",
    "            X_test: test set features.\n",
    "            \n",
    "        The function uses random forest to train on the training features and labels.\n",
    "        It then uses the trained forest to predict the label for the test features.\n",
    "        Then it returns the predicted test labels.\n",
    "    \"\"\"\n",
    "    # TODO:"
   ]
  },
  {
   "cell_type": "code",
   "execution_count": 652,
   "metadata": {},
   "outputs": [
    {
     "name": "stdout",
     "output_type": "stream",
     "text": [
      "Acuracy: 0.914463601533\n"
     ]
    },
    {
     "data": {
      "image/png": "[encoded data removed]",
      "text/plain": [
       "<matplotlib.figure.Figure at 0x115c42080>"
      ]
     },
     "metadata": {},
     "output_type": "display_data"
    }
   ],
   "source": [
    "#\n",
    "# Calculate the features, predict using forest and show the confusion matrix and the accuracy\n",
    "#\n",
    "X_train = np.array([list(features_ver2(content)) for content in train])\n",
    "X_test = np.array([list(features_ver2(content)) for content in test])\n",
    "\n",
    "y_pred = predict_with_forest(X_train, y_train, X_test)\n",
    "\n",
    "cm = confusion_matrix(y_test, y_pred)\n",
    "print('Acuracy:', accuracy_score(y_test, y_pred))\n",
    "plot_confusion_matrix(cm, normalized=True)"
   ]
  },
  {
   "cell_type": "markdown",
   "metadata": {},
   "source": [
    "## Manual Boosting\n",
    "\n",
    "One of the simplest ways to improve our models is to look at the samples the get wrong and think of features that could improve that. This process, when done automatically, is called boosting. Let's do it manually."
   ]
  },
  {
   "cell_type": "code",
   "execution_count": 653,
   "metadata": {
    "collapsed": true
   },
   "outputs": [],
   "source": [
    "#\n",
    "# Create an array false_positives with indexes of training sample on which \n",
    "# our model returns positive predicitons when they are actually negative\n",
    "#\n",
    "y_pred_train = predict_with_forest(X_train, y_train, X_train)\n",
    "false_positives = np.where((y_train != y_pred_train) & y_pred_train)[0]"
   ]
  },
  {
   "cell_type": "code",
   "execution_count": null,
   "metadata": {
    "collapsed": true
   },
   "outputs": [],
   "source": [
    "#\n",
    "# Print one false positive\n",
    "#\n",
    "print(train[false_positives[0]].decode(errors='ignore'))"
   ]
  },
  {
   "cell_type": "code",
   "execution_count": 665,
   "metadata": {
    "collapsed": true
   },
   "outputs": [],
   "source": [
    "#\n",
    "# Add new features which will prevent the last sample to be detected as positive\n",
    "#    \n",
    "def features_ver3(content):\n",
    "    headers = get_headers(content)\n",
    "\n",
    "    subj = subject(headers)\n",
    "    send = sender(headers)\n",
    "    sender_domain = send.split(b'@')[-1][:-1] if send else b''\n",
    "    \n",
    "    yield from subject_features(subj)\n",
    "    yield from sender_domain_features(sender_domain)\n",
    "        \n",
    "    #\n",
    "    # TODO: add some features\n",
    "    #"
   ]
  },
  {
   "cell_type": "code",
   "execution_count": 675,
   "metadata": {},
   "outputs": [
    {
     "name": "stdout",
     "output_type": "stream",
     "text": [
      "Acuracy: 0.983524904215\n"
     ]
    },
    {
     "data": {
      "image/png": "[encoded data removed]",
      "text/plain": [
       "<matplotlib.figure.Figure at 0x114649b38>"
      ]
     },
     "metadata": {},
     "output_type": "display_data"
    }
   ],
   "source": [
    "#\n",
    "# Calculate the features, predict using forest and show the confusion matrix and the accuracy\n",
    "#\n",
    "X_train = np.array([list(features_ver3(content)) for content in train])\n",
    "X_test = np.array([list(features_ver3(content)) for content in test])\n",
    "\n",
    "y_pred = predict_with_forest(X_train, y_train, X_test)\n",
    "\n",
    "cm = confusion_matrix(y_test, y_pred)\n",
    "print('Acuracy:', accuracy_score(y_test, y_pred))\n",
    "plot_confusion_matrix(cm, normalized=True)"
   ]
  }
 ],
 "metadata": {
  "kernelspec": {
   "display_name": "Python 3",
   "language": "python",
   "name": "python3"
  },
  "language_info": {
   "codemirror_mode": {
    "name": "ipython",
    "version": 3
   },
   "file_extension": ".py",
   "mimetype": "text/x-python",
   "name": "python",
   "nbconvert_exporter": "python",
   "pygments_lexer": "ipython3",
   "version": "3.6.2"
  }
 },
 "nbformat": 4,
 "nbformat_minor": 2
}
